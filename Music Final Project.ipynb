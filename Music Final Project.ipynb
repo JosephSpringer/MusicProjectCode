{
 "cells": [
  {
   "cell_type": "code",
   "execution_count": 114,
   "metadata": {},
   "outputs": [],
   "source": [
    "import pandas as pd\n",
    "import zipfile\n",
    "#import MIT's music21 chord object\n",
    "import music21.chord as ch"
   ]
  },
  {
   "cell_type": "code",
   "execution_count": 115,
   "metadata": {
    "scrolled": false
   },
   "outputs": [],
   "source": [
    "#import Yale-Classical Archives Corpus files. \"Bachslices.csv\", BeethovenSlices.csv\", and \"ChopinSlices.csv\" are the files used.\n",
    "zf = zipfile.ZipFile(\"YCAC-data-1.zip\")\n",
    "#open file as dataframe with chords plus associated data in each row\n",
    "composer = pd.read_csv(zf.open(\"BachSlices.csv\"))\n",
    "\n",
    "#apply music21's chord object to all chords in the file\n",
    "composer[\"Chord\"] = composer[\"Chord\"].str.replace(\"<music21.chord.Chord \", \"\").str.replace(\">\", \"\").str.replace(\"#-\", \"\").str.split(\" \")\n",
    "composer[\"chord_list\"] = composer[\"Chord\"].apply(ch.Chord)"
   ]
  },
  {
   "cell_type": "code",
   "execution_count": 116,
   "metadata": {},
   "outputs": [],
   "source": [
    "#create a second dataframe in which each chord object is converted into the \"common name\"\n",
    "composer2 = composer\n",
    "composer2[\"chord_list\"] = composer2[\"chord_list\"].apply(lambda x: x.commonName)"
   ]
  },
  {
   "cell_type": "code",
   "execution_count": null,
   "metadata": {
    "scrolled": false
   },
   "outputs": [],
   "source": [
    "#create a third dataframe with an additional column added that lists the chord following\n",
    "composer3 = composer2.iloc[:-1]\n",
    "composer3[\"following\"] = pd.Series(composer2[\"chord_list\"].shift(-1))\n",
    "composer3 = composer3[[\"chord_list\", \"following\", \"Chord\"]]"
   ]
  },
  {
   "cell_type": "code",
   "execution_count": null,
   "metadata": {},
   "outputs": [],
   "source": [
    "#the total number of chords, used for finding proportions\n",
    "tot = len(composer)"
   ]
  },
  {
   "cell_type": "code",
   "execution_count": null,
   "metadata": {
    "scrolled": false
   },
   "outputs": [],
   "source": [
    "#gives proportional rankings of the occurances of each chord\n",
    "composercount = composer2.groupby(\"chord_list\").count().sort_values(\"Chord\", ascending = False).iloc[:, 0]\n",
    "composercount/tot"
   ]
  },
  {
   "cell_type": "code",
   "execution_count": null,
   "metadata": {
    "scrolled": false
   },
   "outputs": [],
   "source": []
  },
  {
   "cell_type": "code",
   "execution_count": null,
   "metadata": {},
   "outputs": [],
   "source": [
    "#create a fourth dataframe that is limited to just the chord you want to look at\n",
    "composer4 = composer3[composer3[\"chord_list\"] == \"quartal trichord\"]\n",
    "#find the total number of times that chord appears\n",
    "tot2 = len(composer4)\n",
    "#give the proportional rankings of the occurances of each chord that follows the chord above \n",
    "composer4 = composer4.groupby([\"following\"]).count().sort_values(\"Chord\", ascending = False)\n",
    "composer4[\"Chord\"] = composer4[\"Chord\"]/tot2\n",
    "composer4"
   ]
  },
  {
   "cell_type": "code",
   "execution_count": null,
   "metadata": {
    "scrolled": true
   },
   "outputs": [],
   "source": []
  },
  {
   "cell_type": "code",
   "execution_count": null,
   "metadata": {},
   "outputs": [],
   "source": []
  },
  {
   "cell_type": "code",
   "execution_count": null,
   "metadata": {},
   "outputs": [],
   "source": []
  },
  {
   "cell_type": "code",
   "execution_count": null,
   "metadata": {},
   "outputs": [],
   "source": []
  }
 ],
 "metadata": {
  "kernelspec": {
   "display_name": "Python 3",
   "language": "python",
   "name": "python3"
  },
  "language_info": {
   "codemirror_mode": {
    "name": "ipython",
    "version": 3
   },
   "file_extension": ".py",
   "mimetype": "text/x-python",
   "name": "python",
   "nbconvert_exporter": "python",
   "pygments_lexer": "ipython3",
   "version": "3.7.3"
  }
 },
 "nbformat": 4,
 "nbformat_minor": 2
}
